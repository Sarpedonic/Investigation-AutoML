{
  "nbformat": 4,
  "nbformat_minor": 0,
  "metadata": {
    "colab": {
      "name": "Model_Search.ipynb",
      "provenance": [],
      "collapsed_sections": [],
      "mount_file_id": "1y29KL3hfq0jbLBlOVRHqATdD-NLl280m",
      "authorship_tag": "ABX9TyMzoHrmDiMC/otL5Rmq/vEa",
      "include_colab_link": true
    },
    "kernelspec": {
      "name": "python3",
      "display_name": "Python 3"
    }
  },
  "cells": [
    {
      "cell_type": "markdown",
      "metadata": {
        "id": "view-in-github",
        "colab_type": "text"
      },
      "source": [
        "<a href=\"https://colab.research.google.com/github/Sarpedonic/Investigation-AutoML/blob/main/Model_Search.ipynb\" target=\"_parent\"><img src=\"https://colab.research.google.com/assets/colab-badge.svg\" alt=\"Open In Colab\"/></a>"
      ]
    },
    {
      "cell_type": "code",
      "metadata": {
        "id": "Lz0O2sPNCF4Q"
      },
      "source": [
        "#Model Search"
      ],
      "execution_count": 89,
      "outputs": []
    },
    {
      "cell_type": "code",
      "metadata": {
        "id": "FmRnnqjxqFcC"
      },
      "source": [
        "# Clone the repo\n",
        "!git clone https://github.com/google/model_search.git"
      ],
      "execution_count": null,
      "outputs": []
    },
    {
      "cell_type": "code",
      "metadata": {
        "colab": {
          "base_uri": "https://localhost:8080/"
        },
        "id": "CQ7UEWsRqEMv",
        "outputId": "8baa04fe-c43d-41cf-cfad-0c0a061fde9c"
      },
      "source": [
        "# Access folder\n",
        "%cd model_search"
      ],
      "execution_count": 5,
      "outputs": [
        {
          "output_type": "stream",
          "text": [
            "/content/model_search\n"
          ],
          "name": "stdout"
        }
      ]
    },
    {
      "cell_type": "code",
      "metadata": {
        "id": "5jcGpAPbqMGu"
      },
      "source": [
        "# Install required packages\n",
        "!pip install -r requirements.txt"
      ],
      "execution_count": null,
      "outputs": []
    },
    {
      "cell_type": "code",
      "metadata": {
        "id": "Bx43RECtqxUM"
      },
      "source": [
        "# Protocol Buffers required\n",
        "!protoc --python_out=./ model_search/proto/phoenix_spec.proto\n",
        "!protoc --python_out=./ model_search/proto/hparam.proto\n",
        "!protoc --python_out=./ model_search/proto/distillation_spec.proto\n",
        "!protoc --python_out=./ model_search/proto/ensembling_spec.proto\n",
        "!protoc --python_out=./ model_search/proto/transfer_learning_spec.proto"
      ],
      "execution_count": 7,
      "outputs": []
    },
    {
      "cell_type": "code",
      "metadata": {
        "id": "1vDF1UNPn1tF"
      },
      "source": [
        "import pandas as pd\n",
        "\n",
        "import model_search\n",
        "from model_search import constants\n",
        "from model_search import single_trainer\n",
        "from model_search.data import csv_data"
      ],
      "execution_count": 8,
      "outputs": []
    },
    {
      "cell_type": "code",
      "metadata": {
        "colab": {
          "base_uri": "https://localhost:8080/"
        },
        "id": "BqeCYPtqp0dj",
        "outputId": "76c756d9-3bf6-4aec-c1dc-4767f941abc0"
      },
      "source": [
        "!ls"
      ],
      "execution_count": 81,
      "outputs": [
        {
          "output_type": "stream",
          "text": [
            "CONTRIBUTING.md  LICENSE       requirements.txt  WCDML.csv\n",
            "food2.zip\t model_search  srep00196-s2.csv  WORKSPACE\n",
            "food3.zip\t README.md     wcdml.csv\n"
          ],
          "name": "stdout"
        }
      ]
    },
    {
      "cell_type": "code",
      "metadata": {
        "id": "mfSWKifYAM2y"
      },
      "source": [
        "wcd_sets = pd.read_csv(\"/content/drive/MyDrive/Colab Notebooks/dated_wcd_sets.csv\")"
      ],
      "execution_count": 28,
      "outputs": []
    },
    {
      "cell_type": "code",
      "metadata": {
        "id": "NfziB5hp1mwV"
      },
      "source": [
        "from datetime import datetime as dt"
      ],
      "execution_count": 42,
      "outputs": []
    },
    {
      "cell_type": "code",
      "metadata": {
        "id": "Le7ARwdgCIGw"
      },
      "source": [
        "meh = [dt.strptime(date, '%m/%d/%y').date().toordinal() for date in wcd_sets['Date']]"
      ],
      "execution_count": 43,
      "outputs": []
    },
    {
      "cell_type": "code",
      "metadata": {
        "id": "MxPRTUdB19MV"
      },
      "source": [
        "wcd_sets['Date'] = pd.Series(meh)"
      ],
      "execution_count": 46,
      "outputs": []
    },
    {
      "cell_type": "code",
      "metadata": {
        "id": "7SWkYirW3nJk"
      },
      "source": [
        "numeric = ['FiGMA_TDAC','FiGMA_TDA3','FiGMA_TDA5','Opp_FiGMA_TDAC','Opp_FiGMA_TDA3','Opp_FiGMA_TDA5']"
      ],
      "execution_count": 62,
      "outputs": []
    },
    {
      "cell_type": "code",
      "metadata": {
        "id": "80e_ZbKN5hK3"
      },
      "source": [
        "categorical = ['Team','Opp_Team','Set']\n",
        "\n",
        "final_boss = pd.get_dummies(data=wcd_sets[categorical], columns=['Team','Opp_Team','Set'])"
      ],
      "execution_count": null,
      "outputs": []
    },
    {
      "cell_type": "code",
      "metadata": {
        "id": "mDC_jlTB6AIn"
      },
      "source": [
        "derts = pd.concat([wcd_sets['Set_Win'], final_boss, wcd_sets[numeric]], axis=1)"
      ],
      "execution_count": 81,
      "outputs": []
    },
    {
      "cell_type": "code",
      "metadata": {
        "colab": {
          "base_uri": "https://localhost:8080/"
        },
        "id": "Z5h8x9PV7n0f",
        "outputId": "78935a58-136b-4f58-dcb7-64cd101c631b"
      },
      "source": [
        "derts.shape"
      ],
      "execution_count": 74,
      "outputs": [
        {
          "output_type": "execute_result",
          "data": {
            "text/plain": [
              "(17591, 290)"
            ]
          },
          "metadata": {
            "tags": []
          },
          "execution_count": 74
        }
      ]
    },
    {
      "cell_type": "code",
      "metadata": {
        "id": "Mgw-t1JL6hEZ"
      },
      "source": [
        "derts.to_csv('derts.csv')"
      ],
      "execution_count": 83,
      "outputs": []
    },
    {
      "cell_type": "code",
      "metadata": {
        "id": "taX1aXDE6wqC"
      },
      "source": [
        "## Use Model Search"
      ],
      "execution_count": 90,
      "outputs": []
    },
    {
      "cell_type": "code",
      "metadata": {
        "id": "KBtjzFxkVE1P"
      },
      "source": [
        "# Single trainer\n",
        "trainer = single_trainer.SingleTrainer(\n",
        "                        data=csv_data.Provider(\n",
        "                            label_index=0,\n",
        "                            logits_dimension=2,\n",
        "                            record_defaults=[0, 0, 0, 0, 0, 0, 0, 0, 0, 0,\n",
        "                                             0, 0, 0, 0, 0, 0, 0, 0, 0, 0,\n",
        "                                             0, 0, 0, 0, 0, 0, 0, 0, 0, 0,\n",
        "                                             0, 0, 0, 0, 0, 0, 0, 0, 0, 0,\n",
        "                                             0, 0, 0, 0, 0, 0, 0, 0, 0, 0,\n",
        "                                             0, 0, 0, 0, 0, 0, 0, 0, 0, 0,\n",
        "                                             0, 0, 0, 0, 0, 0, 0, 0, 0, 0,\n",
        "                                             0, 0, 0, 0, 0, 0, 0, 0, 0, 0,\n",
        "                                             0, 0, 0, 0, 0, 0, 0, 0, 0, 0,\n",
        "                                             0, 0, 0, 0, 0, 0, 0, 0, 0, 0,\n",
        "                                             0, 0, 0, 0, 0, 0, 0, 0, 0, 0,\n",
        "                                             0, 0, 0, 0, 0, 0, 0, 0, 0, 0,\n",
        "                                             0, 0, 0, 0, 0, 0, 0, 0, 0, 0,\n",
        "                                             0, 0, 0, 0, 0, 0, 0, 0, 0, 0,\n",
        "                                             0, 0, 0, 0, 0, 0, 0, 0, 0, 0,\n",
        "                                             0, 0, 0, 0, 0, 0, 0, 0, 0, 0,\n",
        "                                             0, 0, 0, 0, 0, 0, 0, 0, 0, 0,\n",
        "                                             0, 0, 0, 0, 0, 0, 0, 0, 0, 0,\n",
        "                                             0, 0, 0, 0, 0, 0, 0, 0, 0, 0,\n",
        "                                             0, 0, 0, 0, 0, 0, 0, 0, 0, 0,\n",
        "                                             0, 0, 0, 0, 0, 0, 0, 0, 0, 0,\n",
        "                                             0, 0, 0, 0, 0, 0, 0, 0, 0, 0,\n",
        "                                             0, 0, 0, 0, 0, 0, 0, 0, 0, 0,\n",
        "                                             0, 0, 0, 0, 0, 0, 0, 0, 0, 0,\n",
        "                                             0, 0, 0, 0, 0, 0, 0, 0, 0, 0,\n",
        "                                             0, 0, 0, 0, 0, 0, 0, 0, 0, 0,\n",
        "                                             0, 0, 0, 0, 0, 0, 0, 0, 0, 0,\n",
        "                                             0, 0, 0, 0, 0, 0, 0, 0, 0, 0,\n",
        "                                             0, 0, 0, 0, 0.0, 0.0, 0.0, 0.0, 0.0, 0.0],\n",
        "                            filename=\"/content/drive/MyDrive/Colab Notebooks/wcd_ohe.csv\"),\n",
        "                        spec='/content/model_search/model_search/configs/dnn_config.pbtxt')\n"
      ],
      "execution_count": 78,
      "outputs": []
    },
    {
      "cell_type": "code",
      "metadata": {
        "colab": {
          "base_uri": "https://localhost:8080/"
        },
        "id": "15AcGoEomrzo",
        "outputId": "94952e0e-e38f-458a-dfb1-8a37d8c6813d"
      },
      "source": [
        "!mkdir /tmp/run_example/"
      ],
      "execution_count": 32,
      "outputs": [
        {
          "output_type": "stream",
          "text": [
            "mkdir: cannot create directory ‘/tmp/run_example/’: File exists\n"
          ],
          "name": "stdout"
        }
      ]
    },
    {
      "cell_type": "code",
      "metadata": {
        "id": "pyr7bcktnJ5T"
      },
      "source": [
        "# This code is necessary to not get a flag parsing error\n",
        "import sys\n",
        "from absl import app\n",
        "\n",
        "sys.argv = sys.argv[:1]\n",
        "\n",
        "try:\n",
        "  app.run(lambda argv: None)\n",
        "except:\n",
        "  pass"
      ],
      "execution_count": 34,
      "outputs": []
    },
    {
      "cell_type": "code",
      "metadata": {
        "id": "P8Q_ab-qk1k1"
      },
      "source": [
        "trainer.try_models(\n",
        "    number_models=200,\n",
        "    train_steps=1000,\n",
        "    eval_steps=100,\n",
        "    root_dir=\"/tmp/run_example\",\n",
        "    batch_size=32,\n",
        "    experiment_name=\"example2\",\n",
        "    experiment_owner=\"model_search_user\")"
      ],
      "execution_count": null,
      "outputs": []
    },
    {
      "cell_type": "code",
      "metadata": {
        "id": "Gn9szjoM9KSQ"
      },
      "source": [
        "# Saved model to \"/tmp/run_example/tuner-1/200/saved_model/temp-1615774350/saved_model.pb\"\n",
        "# Model Search performance\n",
        "'accuracy': 0.6121875, 'auc_pr': 0.6077054, 'auc_roc': 0.6530719, 'loss': 0.6581666, 'num_parameters': 1315686"
      ],
      "execution_count": null,
      "outputs": []
    }
  ]
}